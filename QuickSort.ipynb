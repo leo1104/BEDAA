{
  "nbformat": 4,
  "nbformat_minor": 0,
  "metadata": {
    "colab": {
      "provenance": []
    },
    "kernelspec": {
      "name": "python3",
      "display_name": "Python 3"
    },
    "language_info": {
      "name": "python"
    }
  },
  "cells": [
    {
      "cell_type": "code",
      "execution_count": 6,
      "metadata": {
        "colab": {
          "base_uri": "https://localhost:8080/"
        },
        "id": "ZqdGSI4BayN0",
        "outputId": "69bb0e81-bbd6-4d58-b325-a38304116fac"
      },
      "outputs": [
        {
          "output_type": "stream",
          "name": "stdout",
          "text": [
            "[1, 2, 2, 5, 7, 9]\n"
          ]
        }
      ],
      "source": [
        "def quicksort(arr):\n",
        "  pivot=arr[0]\n",
        "  less=[]\n",
        "  equal=[]\n",
        "  more=[]\n",
        "  if len(arr) > 1:\n",
        "    for i in range(len(arr)):\n",
        "      if arr[i]<pivot:\n",
        "        less.append(arr[i])\n",
        "      elif arr[i]==pivot:\n",
        "        equal.append(arr[i])\n",
        "      elif arr[i]>pivot:\n",
        "        more.append(arr[i])\n",
        "    return quicksort(less)+equal+quicksort(more)\n",
        "  else:\n",
        "    return arr\n",
        "\n",
        "a=quicksort([2,7,9,5,2,1])\n",
        "print(a)"
      ]
    },
    {
      "cell_type": "code",
      "source": [
        "from random import randint\n",
        "\n",
        "def inPlaceQuickSort(A,start,end):\n",
        "    if start<end:\n",
        "        p=inPlacePartition(A,start,end)\n",
        "        inPlaceQuickSort(A,start,p-1)\n",
        "        inPlaceQuickSort(A,p+1,end)\n",
        "    return A\n",
        "\n",
        "\n",
        "def inPlacePartition(A,start,end):\n",
        "    pivot=randint(start,end)\n",
        "    A[end], A[pivot] = A[pivot], A[end]\n",
        "    newPivotIndex=start-1\n",
        "    for index in range(start,end):\n",
        "        if A[index]<A[end]:\n",
        "            newPivotIndex=newPivotIndex+1\n",
        "            A[newPivotIndex], A[index] = A[index], A[newPivotIndex]\n",
        "    A[end], A[newPivotIndex+1] = A[newPivotIndex+1], A[end]\n",
        "    return newPivotIndex+1\n",
        "\n",
        "\n",
        "X=[4,5,7,4,3,6,0,4,22,45,82]\n",
        "[4,5,7,4,3,6,82,4,22,45,0]\n",
        "[0,5,7,4,3,6,82,4,22,45,4]\n",
        "a=inPlaceQuickSort(X,0,len(X)-1)\n",
        "print(a)"
      ],
      "metadata": {
        "colab": {
          "base_uri": "https://localhost:8080/"
        },
        "id": "xH4Bb3-ad51r",
        "outputId": "e493881e-97da-4e75-a972-965ed035ba4e"
      },
      "execution_count": 27,
      "outputs": [
        {
          "output_type": "stream",
          "name": "stdout",
          "text": [
            "[0, 3, 4, 4, 4, 5, 6, 7, 22, 45, 82]\n"
          ]
        }
      ]
    },
    {
      "cell_type": "code",
      "source": [],
      "metadata": {
        "id": "3ujoHJjJhWpE"
      },
      "execution_count": 25,
      "outputs": []
    },
    {
      "cell_type": "code",
      "source": [],
      "metadata": {
        "id": "RAfxDQOXjg50"
      },
      "execution_count": 25,
      "outputs": []
    },
    {
      "cell_type": "code",
      "source": [],
      "metadata": {
        "id": "okieCdiSkx78"
      },
      "execution_count": 25,
      "outputs": []
    }
  ]
}
