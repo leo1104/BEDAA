{
  "nbformat": 4,
  "nbformat_minor": 0,
  "metadata": {
    "colab": {
      "provenance": []
    },
    "kernelspec": {
      "name": "python3",
      "display_name": "Python 3"
    },
    "language_info": {
      "name": "python"
    }
  },
  "cells": [
    {
      "cell_type": "code",
      "execution_count": null,
      "metadata": {
        "colab": {
          "base_uri": "https://localhost:8080/"
        },
        "id": "upE2Zr8MFqAX",
        "outputId": "5ca0307a-59f7-41c8-b1a7-622388721a83"
      },
      "outputs": [
        {
          "output_type": "stream",
          "name": "stdout",
          "text": [
            "240.0\n"
          ]
        }
      ],
      "source": [
        "\n",
        "class Item:\n",
        "  def __init__(self,value,weight):\n",
        "    self.value=value\n",
        "    self.weight=weight\n",
        "\n",
        "def knapSack(W,arr):\n",
        "  arr.sort(key=lambda x:x.value/x.weight,reverse=True)\n",
        "  finalValue=0.0\n",
        "  for i in arr:\n",
        "    if(i.weight<=W):\n",
        "      W-=i.weight\n",
        "      finalValue+=i.value\n",
        "    else:\n",
        "      finalValue+=(W/i.weight)*i.value\n",
        "      break\n",
        "  return finalValue\n",
        "\n",
        "\n",
        "if __name__=='__main__':\n",
        "  W=50\n",
        "  arr=[Item(60,10),Item(100,20),Item(120,30)]\n",
        "  a=knapSack(W,arr)\n",
        "  print(a)"
      ]
    },
    {
      "cell_type": "code",
      "source": [
        "class Node:\n",
        "  def __init__(self,prob,symbol,right=None,left=None):\n",
        "    self.prob=prob\n",
        "    self.symbol=symbol\n",
        "    self.right=right\n",
        "    self.left=left\n",
        "    self.code=''\n",
        "  # def __str__(self):\n",
        "  #       return f'Prob {self.prob} and symbol {self.symbol} and rightCode {self.left.code}'\n",
        "def calculateProbability(data):\n",
        "  symbol=dict()\n",
        "  for element in data:\n",
        "    if symbol.get(element)==None:\n",
        "      symbol[element]=1\n",
        "    else:\n",
        "      symbol[element]+=1\n",
        "  return symbol\n",
        "  \n",
        "codes=dict()\n",
        "def calculateCodes(node,val=''):\n",
        "  newVal = val+str(node.code)\n",
        "  if node.left:\n",
        "    calculateCodes(node.left,newVal)\n",
        "  if node.right:\n",
        "    calculateCodes(node.right,newVal)\n",
        "  if(not node.left and not node.right):\n",
        "    codes[node.symbol]=newVal\n",
        "  return codes\n",
        "  \n",
        "def outputEncoded(data,coding):\n",
        "    # AAABBBBccccc\n",
        "  # {'B': '11', 'A': '10', 'c': '0'}\n",
        "  encodingOutput=[]\n",
        "  for c in data:\n",
        "    print(coding[c],end='')\n",
        "    encodingOutput.append(coding[c])\n",
        "  string=''.join([str(item) for item in encodingOutput])\n",
        "  return string\n",
        "\n",
        "\n",
        "def HuffmanEncoding(data):\n",
        "  symbolsWithProb=calculateProbability(data)\n",
        "  symbols=symbolsWithProb.keys()\n",
        "\n",
        "  print(symbolsWithProb)\n",
        "  nodes=[]\n",
        "  for symbol in symbols:\n",
        "    nodes.append(Node(symbolsWithProb.get(symbol),symbol))\n",
        "  # for node in nodes:\n",
        "  #   print(node)\n",
        "  while len(nodes)>1:\n",
        "    nodes=sorted(nodes,key=lambda x:x.prob)\n",
        "    left=nodes[0]\n",
        "    right=nodes[1]\n",
        "    left.code=0\n",
        "    right.code=1\n",
        "    newNode=Node(left.prob+right.prob,left.symbol+right.symbol,left,right)\n",
        "    nodes.remove(left)\n",
        "    nodes.remove(right)\n",
        "    nodes.append(newNode)\n",
        "  # print(nodes[0])\n",
        "  huffmanEncoding=calculateCodes(nodes[0])\n",
        "  print(huffmanEncoding)\n",
        "  encoadedOutput=outputEncoded(data,huffmanEncoding)\n",
        "  print(encoadedOutput)\n",
        "\n",
        "a=HuffmanEncoding('AAABBBBccccc')\n",
        "print(a)"
      ],
      "metadata": {
        "colab": {
          "base_uri": "https://localhost:8080/"
        },
        "id": "12CtqFyYdx6M",
        "outputId": "a3966e54-ffcc-4096-92f8-d687303f5529"
      },
      "execution_count": null,
      "outputs": [
        {
          "output_type": "stream",
          "name": "stdout",
          "text": [
            "{'A': 3, 'B': 4, 'c': 5}\n",
            "{'B': '11', 'A': '10', 'c': '0'}\n",
            "10101011111111000001010101111111100000\n",
            "None\n"
          ]
        }
      ]
    },
    {
      "cell_type": "code",
      "source": [],
      "metadata": {
        "id": "8YzANxZZDdga"
      },
      "execution_count": null,
      "outputs": []
    }
  ]
}
